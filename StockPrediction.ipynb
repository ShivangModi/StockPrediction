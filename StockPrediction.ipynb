{
  "nbformat": 4,
  "nbformat_minor": 0,
  "metadata": {
    "colab": {
      "provenance": [],
      "collapsed_sections": []
    },
    "kernelspec": {
      "name": "python3",
      "display_name": "Python 3"
    },
    "language_info": {
      "name": "python"
    }
  },
  "cells": [
    {
      "cell_type": "code",
      "source": [
        "!pip install yfinance"
      ],
      "metadata": {
        "id": "ThYRAxsZsk_d"
      },
      "execution_count": null,
      "outputs": []
    },
    {
      "cell_type": "code",
      "source": [
        "import yfinance as yf\n",
        "import numpy as np\n",
        "import matplotlib.pyplot as plt"
      ],
      "metadata": {
        "id": "BvXmkFgUk23D"
      },
      "execution_count": 15,
      "outputs": []
    },
    {
      "cell_type": "code",
      "execution_count": 25,
      "metadata": {
        "id": "Vtbveui4krFi"
      },
      "outputs": [],
      "source": [
        "# Simple Linear Regression with Gradient Descent Algorithm\n",
        "class LinearRegression:\n",
        "    def __init__(self, df, learning_rate=0.0001, stop=1e-6, normalize=True):\n",
        "        self.m = 0\n",
        "        self.c = 0\n",
        "        self.__df = df\n",
        "        self.__lr = learning_rate\n",
        "        self.__stop = stop\n",
        "        self.__normalize = normalize\n",
        "        self.__n = None\n",
        "        self.__mean = None\n",
        "        self.__std = None\n",
        "        self.__costs = []\n",
        "        self.__iterations = []\n",
        "\n",
        "    def __computeCost(self, y_predict, y):\n",
        "        loss = np.square(y_predict - y)\n",
        "        cost = np.sum(loss) / (2 * self.__n)\n",
        "        return cost\n",
        "\n",
        "    def __optimize(self, x, y):\n",
        "        y_predict = np.dot(x, self.m) + self.c\n",
        "        dm = np.dot(x, (y_predict - y)) / self.__n\n",
        "        dc = np.sum(y_predict - y) / self.__n\n",
        "        self.m = self.m - self.__lr * dm\n",
        "        self.c = self.c - self.__lr * dc\n",
        "\n",
        "    def __normalizeX(self, x):\n",
        "        return (x - self.__mean) / self.__std\n",
        "\n",
        "    def fit(self):\n",
        "        split = int(len(self.__df) * 0.75)\n",
        "        train = self.__df[:split]\n",
        "\n",
        "        x_train = np.array(train['Open'])\n",
        "        y_train = np.array(train['Close'])\n",
        "\n",
        "        if self.__normalize:\n",
        "            self.__mean, self.__std = x_train.mean(axis=0), x_train.std(axis=0)\n",
        "            x_train = self.__normalizeX(x_train)\n",
        "\n",
        "            self.__n = len(x_train)\n",
        "            last_cost, i = float('inf'), 0\n",
        "            while True:\n",
        "                y_predict = np.dot(x_train, self.m) + self.c\n",
        "                cost = self.__computeCost(y_predict, y_train)\n",
        "                self.__optimize(x_train, y_train)\n",
        "                if last_cost - cost < self.__stop:\n",
        "                    break\n",
        "                else:\n",
        "                    last_cost, i = cost, i + 1\n",
        "                    self.__costs.append(cost)\n",
        "                    self.__iterations.append(i)\n",
        "\n",
        "    def predict(self):\n",
        "        # pred = pd.DataFrame({'Date': self.__df['Date'], 'Value': self.__df['Close'], 'Predicted_Values': slr_pred})\n",
        "        split = int(len(self.__df) * 0.75)\n",
        "        train = self.__df[:split]\n",
        "        test = self.__df[split:]\n",
        "        if self.__normalize:\n",
        "            x = self.__normalizeX(test['Open'])\n",
        "        slr_pred = np.dot(x, self.m) + self.c\n",
        "        plt.plot(self.__df['Date'], self.__df['Close'])\n",
        "        plt.plot(test['Date'], slr_pred)\n",
        "        plt.show()"
      ]
    },
    {
      "cell_type": "code",
      "source": [
        "df = yf.download(\"TTM\").reset_index()\n",
        "df.index = df['Date']\n",
        "# df = df.dropna()\n",
        "slr = LinearRegression(df)\n",
        "slr.fit()\n",
        "slr.predict()"
      ],
      "metadata": {
        "colab": {
          "base_uri": "https://localhost:8080/",
          "height": 282
        },
        "id": "igzwRONwmZGG",
        "outputId": "c465a8c0-6541-40e2-8b8f-b4b2dc640e7f"
      },
      "execution_count": 29,
      "outputs": [
        {
          "output_type": "stream",
          "name": "stdout",
          "text": [
            "\r[*********************100%***********************]  1 of 1 completed\n"
          ]
        },
        {
          "output_type": "display_data",
          "data": {
            "text/plain": [
              "<Figure size 432x288 with 1 Axes>"
            ],
            "image/png": "[encoded data removed]"
          },
          "metadata": {
            "needs_background": "light"
          }
        }
      ]
    }
  ]
}